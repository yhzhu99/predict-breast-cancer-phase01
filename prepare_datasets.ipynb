{
 "cells": [
  {
   "cell_type": "code",
   "execution_count": 2,
   "id": "2fbe7cea-b614-43a7-a8cc-24b09ed69882",
   "metadata": {},
   "outputs": [],
   "source": [
    "import os\n",
    "from pathlib import Path\n",
    "\n",
    "import pandas as pd\n",
    "import numpy as np\n",
    "from tqdm import tqdm\n",
    "from openslide import OpenSlide\n",
    "\n",
    "import torch\n",
    "from torch import nn\n",
    "from torch.utils.data import (\n",
    "    ConcatDataset,\n",
    "    DataLoader,\n",
    "    Dataset,\n",
    "    Subset,\n",
    "    SubsetRandomSampler,\n",
    "    TensorDataset,\n",
    "    random_split,\n",
    ")\n",
    "\n",
    "import torchvision\n",
    "from torchvision import transforms\n",
    "from PIL import Image\n",
    "\n",
    "# import einops"
   ]
  },
  {
   "cell_type": "code",
   "execution_count": 3,
   "id": "da81404e-e4aa-498e-93e1-f7257c7066fa",
   "metadata": {},
   "outputs": [],
   "source": [
    "train_df = pd.read_csv('./csv_dir/train_outcomes.csv') # biopsy_id, label\n",
    "test_df = pd.read_csv('./csv_dir/test_outcomes.csv')\n",
    "holdout_df = pd.read_csv('./csv_dir/holdout_outcomes.csv')\n",
    "\n",
    "train_mapping = pd.read_csv('./csv_dir/train_mapping.csv') # slide_id, biopsy_id, img path\n",
    "test_mapping = pd.read_csv('./csv_dir/test_mapping.csv')\n",
    "holdout_mapping = pd.read_csv('./csv_dir/holdout_mapping.csv')"
   ]
  },
  {
   "cell_type": "code",
   "execution_count": 4,
   "id": "6671f369-3216-484b-9bae-10ba8b790a90",
   "metadata": {},
   "outputs": [],
   "source": [
    "train_outcome_map = {}\n",
    "\"\"\"\n",
    "key: biopsy_id\n",
    "value: stage_number 0,1,2,3,4 (exclude NaN)\n",
    "\"\"\"\n",
    "for idx, row in train_df.iterrows():\n",
    "    train_outcome_map[row['biopsy_id']] = row['label']\n",
    "\n",
    "train_slide_map = {}\n",
    "\"\"\"\n",
    "key: slide_id\n",
    "value: Tuple(biopsy_id, slide_path)\n",
    "\"\"\"\n",
    "for idx, row in train_mapping.iterrows():\n",
    "    train_slide_map[row['slide_id']] = (row['biopsy_id'], row['downsampled_path'])\n"
   ]
  },
  {
   "cell_type": "code",
   "execution_count": 5,
   "id": "c10c3bdd-20d6-407a-b778-0b22f8af962e",
   "metadata": {},
   "outputs": [],
   "source": [
    "test_outcome_map = {}\n",
    "\"\"\"\n",
    "key: biopsy_id\n",
    "value: stage_number 0,1,2,3,4 (exclude NaN)\n",
    "\"\"\"\n",
    "for idx, row in test_df.iterrows():\n",
    "    test_outcome_map[row['biopsy_id']] = row['label']\n",
    "\n",
    "test_slide_map = {}\n",
    "\"\"\"\n",
    "key: slide_id\n",
    "value: Tuple(biopsy_id, slide_path)\n",
    "\"\"\"\n",
    "for idx, row in test_mapping.iterrows():\n",
    "    test_slide_map[row['slide_id']] = (row['biopsy_id'], row['downsampled_path'])\n"
   ]
  },
  {
   "cell_type": "code",
   "execution_count": 6,
   "id": "66edb853-0ec2-4f56-9d15-2f38284f67c4",
   "metadata": {},
   "outputs": [],
   "source": [
    "holdout_slide_map = {}\n",
    "\"\"\"\n",
    "key: slide_id\n",
    "value: Tuple(biopsy_id, slide_path)\n",
    "\"\"\"\n",
    "for idx, row in holdout_mapping.iterrows():\n",
    "    holdout_slide_map[row['slide_id']] = (row['biopsy_id'], row['downsampled_path'])"
   ]
  },
  {
   "cell_type": "code",
   "execution_count": 7,
   "id": "64e71cd1-5d16-472f-80be-28d5fba31e35",
   "metadata": {},
   "outputs": [],
   "source": [
    "train_x = [] # biopsy_id, img_path\n",
    "train_y = [] # stage label\n",
    "for slide_id in train_slide_map:\n",
    "    # print(slide_id)\n",
    "    biopsy_id, img_path = train_slide_map[slide_id]\n",
    "    label = train_outcome_map[biopsy_id]\n",
    "    train_x.append((biopsy_id, img_path))\n",
    "    train_y.append(label)"
   ]
  },
  {
   "cell_type": "code",
   "execution_count": 8,
   "id": "cb8305f3-74f6-4309-9487-132dcb2b429f",
   "metadata": {},
   "outputs": [],
   "source": [
    "test_x = [] # biopsy_id, img_path\n",
    "test_y = [] # stage label\n",
    "for slide_id in test_slide_map:\n",
    "    # print(slide_id)\n",
    "    biopsy_id, img_path = test_slide_map[slide_id]\n",
    "    label = test_outcome_map[biopsy_id]\n",
    "    test_x.append((biopsy_id, img_path))\n",
    "    test_y.append(label)"
   ]
  },
  {
   "cell_type": "code",
   "execution_count": 9,
   "id": "e12a84b5-c280-4b5e-84f8-dca4d17d66a8",
   "metadata": {},
   "outputs": [],
   "source": [
    "holdout_x = [] # biopsy_id, img_path\n",
    "for slide_id in holdout_slide_map:\n",
    "    # print(slide_id)\n",
    "    biopsy_id, img_path = holdout_slide_map[slide_id]\n",
    "    holdout_x.append((biopsy_id, img_path))\n",
    "holdout_y = [0 for _ in range(len(holdout_x))]"
   ]
  },
  {
   "cell_type": "code",
   "execution_count": 10,
   "id": "348c3427-30e6-4d2e-a3b0-93beda382eb8",
   "metadata": {},
   "outputs": [
    {
     "data": {
      "text/plain": [
       "(10206, 10206, 10205, 10205, 16607)"
      ]
     },
     "execution_count": 10,
     "metadata": {},
     "output_type": "execute_result"
    }
   ],
   "source": [
    "len(train_x), len(train_y), len(test_x), len(test_y), len(holdout_x)"
   ]
  },
  {
   "cell_type": "code",
   "execution_count": 11,
   "id": "598811d5-516f-4165-ad77-5774415ce2f9",
   "metadata": {},
   "outputs": [],
   "source": [
    "transform_aug_train = transforms.Compose([\n",
    "        transforms.Resize(224),\n",
    "        transforms.RandomResizedCrop(size=224,scale=(0.8,1.0)),\n",
    "        transforms.RandomRotation(degrees=15),\n",
    "        transforms.RandomHorizontalFlip(),\n",
    "        transforms.CenterCrop(size=224),\n",
    "        transforms.ToTensor(),\n",
    "        transforms.Normalize([0.485, 0.456, 0.406],\n",
    "                             [0.229, 0.224, 0.225])\n",
    "    ])\n",
    "\n",
    "transform_aug_test = transforms.Compose([\n",
    "        transforms.Resize(224),\n",
    "        # transforms.RandomResizedCrop(size=224,scale=(0.8,1.0)),\n",
    "        # transforms.RandomRotation(degrees=15),\n",
    "        # transforms.RandomHorizontalFlip(),\n",
    "        transforms.CenterCrop(size=224),\n",
    "        transforms.ToTensor(),\n",
    "        transforms.Normalize([0.485, 0.456, 0.406],\n",
    "                             [0.229, 0.224, 0.225])\n",
    "    ])"
   ]
  },
  {
   "cell_type": "code",
   "execution_count": 12,
   "id": "fcf8426b-56f3-4413-91ff-632597396188",
   "metadata": {},
   "outputs": [],
   "source": [
    "class ImageDataset(Dataset):\n",
    "    def __init__(self, x, y, mode='train'): \n",
    "        self.x = x # biopsy_id, img_path\n",
    "        self.y = y # label\n",
    "        self.mode = mode # train/test\n",
    "\n",
    "    def __getitem__(self, index):\n",
    "        biopsy_id, path = self.x[index]\n",
    "        x_pil = Image.open(path)\n",
    "        if self.mode=='train': x_tensor = transform_aug_train(x_pil)\n",
    "        elif self.mode == 'test': x_tensor = transform_aug_test(x_pil)\n",
    "        return biopsy_id, x_tensor, self.y[index]\n",
    "\n",
    "    def __len__(self):\n",
    "        return len(self.x)"
   ]
  },
  {
   "cell_type": "code",
   "execution_count": 13,
   "id": "b7aec716-267c-45e4-a93d-ec074edd8f1f",
   "metadata": {},
   "outputs": [],
   "source": [
    "batch_size = 2\n",
    "\n",
    "epochs = 20\n",
    "learning_rate = 1e-3\n",
    "momentum = 0.9\n",
    "weight_decay=0 # 1e-8\n",
    "\n",
    "device = torch.device(\"cuda:0\" if torch.cuda.is_available() else \"cpu\")"
   ]
  },
  {
   "cell_type": "code",
   "execution_count": 14,
   "id": "d59a4783-0f99-4928-a666-f5a723c37bbc",
   "metadata": {},
   "outputs": [],
   "source": [
    "train_dataset = ImageDataset(train_x, train_y, mode='train')\n",
    "train_loader = DataLoader(train_dataset, batch_size=batch_size)\n",
    "test_dataset = ImageDataset(test_x, test_y, mode='test')\n",
    "test_loader = DataLoader(test_dataset, batch_size=batch_size)\n",
    "holdout_dataset = ImageDataset(holdout_x, holdout_y, mode='test')\n",
    "holdout_loader = DataLoader(holdout_dataset, batch_size=batch_size)"
   ]
  },
  {
   "cell_type": "code",
   "execution_count": 15,
   "id": "b24ec54a-957e-424d-9ca7-1e601afa333c",
   "metadata": {},
   "outputs": [],
   "source": [
    "# for data in holdout_loader:\n",
    "#     biopsy_id, x, y = data\n",
    "#     print(biopsy_id, x.shape, y)"
   ]
  },
  {
   "cell_type": "code",
   "execution_count": 16,
   "id": "38402106-b269-4379-89a0-70dce3757a3e",
   "metadata": {
    "tags": []
   },
   "outputs": [
    {
     "name": "stderr",
     "output_type": "stream",
     "text": [
      "100%|██████████| 10206/10206 [00:48<00:00, 211.02it/s]\n"
     ]
    }
   ],
   "source": [
    "train_x_list = []\n",
    "train_y_list = train_y\n",
    "train_biopsy_id_list = []\n",
    "for i in tqdm(range(len(train_x))):\n",
    "    biopsy_id, path = train_x[i]\n",
    "    train_biopsy_id_list.append(biopsy_id)\n",
    "    x_pil = Image.open(path)\n",
    "    x_tensor = transform_aug_train(x_pil)\n",
    "    train_x_list.append(x_tensor)\n",
    "\n",
    "pd.to_pickle({'x': train_x_list, 'y': train_y_list, 'id': train_biopsy_id_list}, f'./datasets/train.pkl')\n",
    "\n",
    "del train_x_list\n",
    "del train_y_list\n",
    "del train_y\n",
    "del train_biopsy_id_list"
   ]
  },
  {
   "cell_type": "code",
   "execution_count": 19,
   "id": "4108a674-717c-4c0d-a19b-0c3f0d8f7d1f",
   "metadata": {},
   "outputs": [
    {
     "name": "stderr",
     "output_type": "stream",
     "text": [
      "100%|██████████| 10205/10205 [01:53<00:00, 90.00it/s] \n"
     ]
    }
   ],
   "source": [
    "test_x_list = []\n",
    "test_y_list = test_y\n",
    "test_biopsy_id_list = []\n",
    "for i in tqdm(range(len(test_x))):\n",
    "    biopsy_id, path = test_x[i]\n",
    "    test_biopsy_id_list.append(biopsy_id)\n",
    "    x_pil = Image.open(path)\n",
    "    x_tensor = transform_aug_test(x_pil)\n",
    "    test_x_list.append(x_tensor)\n",
    "\n",
    "pd.to_pickle({'x': test_x_list, 'y': test_y_list, 'id': test_biopsy_id_list}, f'./datasets/test.pkl')\n",
    "\n",
    "del test_x_list\n",
    "del test_y_list\n",
    "del test_y\n",
    "del test_biopsy_id_list"
   ]
  },
  {
   "cell_type": "code",
   "execution_count": 21,
   "id": "fa602cdf-5295-463c-9895-3be18f9caeb9",
   "metadata": {},
   "outputs": [
    {
     "name": "stderr",
     "output_type": "stream",
     "text": [
      "100%|██████████| 16607/16607 [02:50<00:00, 97.50it/s] \n"
     ]
    }
   ],
   "source": [
    "holdout_x_list = []\n",
    "holdout_y_list = holdout_y\n",
    "holdout_biopsy_id_list = []\n",
    "for i in tqdm(range(len(holdout_x))):\n",
    "    biopsy_id, path = holdout_x[i]\n",
    "    holdout_biopsy_id_list.append(biopsy_id)\n",
    "    x_pil = Image.open(path)\n",
    "    x_tensor = transform_aug_test(x_pil)\n",
    "    holdout_x_list.append(x_tensor)\n",
    "\n",
    "pd.to_pickle({'x': holdout_x_list, 'y': holdout_y_list, 'id': holdout_biopsy_id_list}, f'./datasets/holdout.pkl')\n",
    "\n",
    "del holdout_x_list\n",
    "del holdout_y_list\n",
    "del holdout_y\n",
    "del holdout_biopsy_id_list"
   ]
  }
 ],
 "metadata": {
  "kernelspec": {
   "display_name": "Python 3 (ipykernel)",
   "language": "python",
   "name": "python3"
  },
  "language_info": {
   "codemirror_mode": {
    "name": "ipython",
    "version": 3
   },
   "file_extension": ".py",
   "mimetype": "text/x-python",
   "name": "python",
   "nbconvert_exporter": "python",
   "pygments_lexer": "ipython3",
   "version": "3.8.11"
  }
 },
 "nbformat": 4,
 "nbformat_minor": 5
}
