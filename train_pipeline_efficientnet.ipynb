{
 "cells": [
  {
   "cell_type": "code",
   "execution_count": null,
   "id": "2fbe7cea-b614-43a7-a8cc-24b09ed69882",
   "metadata": {},
   "outputs": [],
   "source": [
    "import os\n",
    "from pathlib import Path\n",
    "\n",
    "import pandas as pd\n",
    "import numpy as np\n",
    "from tqdm import tqdm\n",
    "# from openslide import OpenSlide\n",
    "\n",
    "import torch\n",
    "from torch import nn\n",
    "from torch.utils.data import (\n",
    "    ConcatDataset,\n",
    "    DataLoader,\n",
    "    Dataset,\n",
    "    Subset,\n",
    "    SubsetRandomSampler,\n",
    "    TensorDataset,\n",
    "    random_split,\n",
    ")\n",
    "\n",
    "import torchvision\n",
    "from torchvision import transforms\n",
    "from PIL import Image\n",
    "\n",
    "# import einops\n",
    "\n",
    "# from eval_metrics import print_metrics_regression\n",
    "from sklearn import metrics as sklearn_metrics"
   ]
  },
  {
   "cell_type": "code",
   "execution_count": null,
   "id": "737c74b6",
   "metadata": {},
   "outputs": [],
   "source": [
    "data_dir = \"./datasets/v2/\""
   ]
  },
  {
   "cell_type": "code",
   "execution_count": null,
   "id": "64e71cd1-5d16-472f-80be-28d5fba31e35",
   "metadata": {},
   "outputs": [],
   "source": [
    "train = pd.read_pickle(data_dir+\"train.pkl\")\n",
    "train_x = train[\"x\"]\n",
    "train_y = train[\"y\"]\n",
    "train_id = train[\"id\"]\n",
    "train_x = torch.tensor(torch.stack(train_x).detach().cpu().numpy())\n",
    "train_y = torch.tensor(train_y)\n",
    "\n",
    "test = pd.read_pickle(data_dir+\"test.pkl\")\n",
    "test_x = test[\"x\"]\n",
    "test_y = test[\"y\"]\n",
    "test_id = test[\"id\"]\n",
    "test_x = torch.tensor(torch.stack(test_x).detach().cpu().numpy())\n",
    "test_y = torch.tensor(test_y)"
   ]
  },
  {
   "cell_type": "code",
   "execution_count": null,
   "id": "fd251bf8",
   "metadata": {},
   "outputs": [],
   "source": [
    "min_label = train_y.min().item()\n",
    "max_label = train_y.max().item()\n",
    "train_y = (train_y-min_label)/(max_label-min_label)\n",
    "test_y = (test_y-min_label)/(max_label-min_label)\n",
    "\n",
    "min_label, max_label"
   ]
  },
  {
   "cell_type": "code",
   "execution_count": null,
   "id": "81058b05",
   "metadata": {},
   "outputs": [],
   "source": [
    "def min_max_norm(x, min_label=min_label, max_label=max_label):\n",
    "    return (x-min_label)/(max_label-min_label)\n",
    "\n",
    "def reverse_min_max_norm(x, min_label=min_label, max_label=max_label):\n",
    "    return x*(max_label-min_label)+min_label"
   ]
  },
  {
   "cell_type": "code",
   "execution_count": null,
   "id": "348c3427-30e6-4d2e-a3b0-93beda382eb8",
   "metadata": {},
   "outputs": [],
   "source": [
    "train_x.shape, train_y.shape, len(train_id), test_x.shape, test_y.shape, len(test_id)"
   ]
  },
  {
   "cell_type": "code",
   "execution_count": null,
   "id": "fcf8426b-56f3-4413-91ff-632597396188",
   "metadata": {},
   "outputs": [],
   "source": [
    "class ImageDataset(Dataset):\n",
    "    def __init__(self, x, y, biopsy_id):\n",
    "        self.x = x # img_tensor_list\n",
    "        self.y = y # label\n",
    "        self.biopsy_id = biopsy_id\n",
    "\n",
    "    def __getitem__(self, index):\n",
    "        return self.x[index], self.y[index], self.biopsy_id[index]\n",
    "\n",
    "    def __len__(self):\n",
    "        return len(self.x)"
   ]
  },
  {
   "cell_type": "code",
   "execution_count": null,
   "id": "b7aec716-267c-45e4-a93d-ec074edd8f1f",
   "metadata": {},
   "outputs": [],
   "source": [
    "batch_size = 64\n",
    "\n",
    "epochs = 50\n",
    "learning_rate = 1e-3\n",
    "momentum = 0.9\n",
    "weight_decay = 0 # 1e-8\n",
    "\n",
    "device = torch.device(\"cuda:1\" if torch.cuda.is_available() else \"cpu\")"
   ]
  },
  {
   "cell_type": "code",
   "execution_count": null,
   "id": "d59a4783-0f99-4928-a666-f5a723c37bbc",
   "metadata": {},
   "outputs": [],
   "source": [
    "train_dataset = ImageDataset(train_x, train_y, train_id)\n",
    "train_loader = DataLoader(train_dataset, batch_size=batch_size)\n",
    "test_dataset = ImageDataset(test_x, test_y, test_id)\n",
    "test_loader = DataLoader(test_dataset, batch_size=batch_size)"
   ]
  },
  {
   "cell_type": "code",
   "execution_count": null,
   "id": "b24ec54a-957e-424d-9ca7-1e601afa333c",
   "metadata": {},
   "outputs": [],
   "source": [
    "# for data in train_dataset:\n",
    "#     x, y, biopsy_id = data\n",
    "#     print(x.shape, y, biopsy_id)"
   ]
  },
  {
   "cell_type": "code",
   "execution_count": null,
   "id": "1051102c-ceb1-4271-8444-7eaeba3bdd2e",
   "metadata": {},
   "outputs": [],
   "source": [
    "def mse_loss(y_pred, y_true):\n",
    "    loss_fn = nn.MSELoss()\n",
    "    return loss_fn(y_pred, y_true)\n",
    "\n",
    "def focal_mse_loss(inputs, targets, activate='sigmoid', beta=.2, gamma=1):\n",
    "    loss = (inputs - targets) ** 2\n",
    "    loss *= (torch.tanh(beta * torch.abs(inputs - targets))) ** gamma if activate == 'tanh' else \\\n",
    "        (2 * torch.sigmoid(beta * torch.abs(inputs - targets)) - 1) ** gamma\n",
    "    loss = torch.mean(loss)\n",
    "    return loss\n",
    "\n",
    "def huber_loss(inputs, targets, beta=1.):\n",
    "    l1_loss = torch.abs(inputs - targets)\n",
    "    cond = l1_loss < beta\n",
    "    loss = torch.where(cond, 0.5 * l1_loss ** 2 / beta, l1_loss - 0.5 * beta)\n",
    "    loss = torch.mean(loss)\n",
    "    return loss\n",
    "\n",
    "criterion = mse_loss"
   ]
  },
  {
   "cell_type": "code",
   "execution_count": null,
   "id": "fe0b0f76-e41e-440b-93e8-9a605e5799b5",
   "metadata": {},
   "outputs": [],
   "source": [
    "def train_epoch(model, dataloader, loss_fn, optimizer, scheduler):\n",
    "    train_loss = []\n",
    "    model.train()\n",
    "    for step, data in enumerate(dataloader):\n",
    "        batch_x, batch_y, batch_biopsy_id = data\n",
    "        batch_x, batch_y = (\n",
    "            batch_x.float().to(device),\n",
    "            batch_y.float().to(device),\n",
    "        )\n",
    "        optimizer.zero_grad()\n",
    "        # print(batch_x.device, batch_x.shape)\n",
    "        # print(next(model.parameters()).is_cuda)\n",
    "        output = model(batch_x)\n",
    "        output = torch.squeeze(output, dim=1)\n",
    "        # print(output.shape, batch_y.shape)\n",
    "        \n",
    "        loss = loss_fn(output, batch_y)\n",
    "        train_loss.append(loss.item())\n",
    "        loss.backward()\n",
    "        optimizer.step()\n",
    "    metric_train_loss = np.array(train_loss).mean()\n",
    "    scheduler.step(metric_train_loss)\n",
    "    return metric_train_loss\n",
    "\n",
    "def val_epoch(model, dataloader):\n",
    "    y_pred = {} # key: biopsy_id, value: List[slice_stage_pred]\n",
    "    y_true = {} # key: biopsy_id, value: List[slice_stage_pred]\n",
    "    model.eval()\n",
    "    with torch.no_grad():\n",
    "        for step, data in enumerate(dataloader):\n",
    "            # print(step)\n",
    "            batch_x, batch_y, batch_biopsy_id = data\n",
    "            batch_x, batch_y = (\n",
    "                batch_x.float().to(device),\n",
    "                batch_y.float().to(device),\n",
    "            )\n",
    "            output = model(batch_x)\n",
    "            output = torch.squeeze(output, dim=1)\n",
    "            output = output.detach().cpu().numpy().tolist()\n",
    "            batch_y = batch_y.detach().cpu().numpy().tolist()\n",
    "\n",
    "            for i in range(len(batch_biopsy_id)):\n",
    "                biopsy_id = batch_biopsy_id[i]\n",
    "                if biopsy_id not in y_pred:\n",
    "                    y_pred[biopsy_id] = []\n",
    "                    y_true[biopsy_id] = []\n",
    "                y_pred[biopsy_id].append(output[i])\n",
    "                y_true[biopsy_id].append(batch_y[i])\n",
    "    \n",
    "    prediction_list = []\n",
    "    ground_truth_list = []\n",
    "    for biopsy_id in y_pred:\n",
    "        preds = np.array(y_pred[biopsy_id])\n",
    "        truths = np.array(y_true[biopsy_id])\n",
    "        prediction_list.append(preds.mean())\n",
    "        ground_truth_list.append(truths.mean())\n",
    "    prediction_list = np.array(prediction_list)\n",
    "    ground_truth_list = np.array(ground_truth_list)\n",
    "    prediction_list = reverse_min_max_norm(prediction_list)\n",
    "    ground_truth_list = reverse_min_max_norm(ground_truth_list)\n",
    "\n",
    "    mse = sklearn_metrics.mean_squared_error(ground_truth_list, prediction_list)\n",
    "    return mse"
   ]
  },
  {
   "cell_type": "code",
   "execution_count": null,
   "id": "f5842d16-104b-4420-9b8b-2ba22a4772ae",
   "metadata": {},
   "outputs": [],
   "source": [
    "# ConvNext\n",
    "\n",
    "model = torchvision.models.efficientnet_v2_s()\n",
    "model.load_state_dict(torch.load('./checkpoints/efficientnet_v2_s-dd5fe13b.pth'), strict=True)\n",
    "print(model)\n",
    "\n",
    "hidden_dim = 1280\n",
    "out_dim = 1\n",
    "\n",
    "model.classifier = nn.Sequential(\n",
    "    # nn.Flatten(1),\n",
    "    nn.Linear(hidden_dim, 48),\n",
    "    # nn.GELU(),\n",
    "    # # nn.Dropout(0.1),\n",
    "    nn.Linear(48, out_dim),\n",
    "    nn.Sigmoid()\n",
    ")\n",
    "\n",
    "# model.load_state_dict(torch.load('./checkpoints/resnet18-f37072fd.pth'), strict=False)\n",
    "# model.load_state_dict(torch.load('./checkpoints/resnet50-11ad3fa6.pth'), strict=False)\n",
    "\n",
    "\n",
    "model.to(device)"
   ]
  },
  {
   "cell_type": "code",
   "execution_count": null,
   "id": "28a8d1a3",
   "metadata": {},
   "outputs": [],
   "source": [
    "# a = torch.randn((64,3,224,224)).to(device)\n",
    "# model(a)"
   ]
  },
  {
   "cell_type": "code",
   "execution_count": null,
   "id": "d8d448b1",
   "metadata": {},
   "outputs": [],
   "source": [
    "optimizer = torch.optim.Adam(model.parameters(), lr=learning_rate, weight_decay=weight_decay)\n",
    "scheduler = torch.optim.lr_scheduler.ReduceLROnPlateau(optimizer)"
   ]
  },
  {
   "cell_type": "code",
   "execution_count": null,
   "id": "ecda0015-3854-45a3-bdeb-46ccc2a963ae",
   "metadata": {},
   "outputs": [],
   "source": [
    "best_score = 0.65\n",
    "for epoch in range(epochs):\n",
    "    # print(f'Running epoch {epoch} ...')\n",
    "    train_loss = train_epoch(\n",
    "        model,\n",
    "        train_loader,\n",
    "        criterion,\n",
    "        optimizer,\n",
    "        scheduler\n",
    "    )\n",
    "    print(f\"Epoch {epoch}: Loss = {train_loss}\")\n",
    "    if epoch % 1 == 0:\n",
    "        metric_valid = val_epoch(model, test_loader)\n",
    "        print(\"Val Score:\", metric_valid)\n",
    "        if metric_valid < best_score:\n",
    "            best_score = metric_valid\n",
    "            print(\"Saving best model ...\")\n",
    "            torch.save(\n",
    "                model.state_dict(),\n",
    "                f\"./checkpoints/model_eff_1130.ckpt\",\n",
    "            )\n",
    "    "
   ]
  },
  {
   "cell_type": "code",
   "execution_count": null,
   "id": "0c5ece5e",
   "metadata": {},
   "outputs": [],
   "source": [
    "best_score"
   ]
  }
 ],
 "metadata": {
  "kernelspec": {
   "display_name": "Python 3.9.13 ('med')",
   "language": "python",
   "name": "python3"
  },
  "language_info": {
   "codemirror_mode": {
    "name": "ipython",
    "version": 3
   },
   "file_extension": ".py",
   "mimetype": "text/x-python",
   "name": "python",
   "nbconvert_exporter": "python",
   "pygments_lexer": "ipython3",
   "version": "3.9.13"
  },
  "vscode": {
   "interpreter": {
    "hash": "03b9317a45a69c475f09ce7bb33975b2f1504feff0a69820c9d0e843e17e056b"
   }
  }
 },
 "nbformat": 4,
 "nbformat_minor": 5
}
