{
 "cells": [
  {
   "cell_type": "code",
   "execution_count": 8,
   "id": "4700f83e-1be6-43d4-86f1-56d3f73ac09f",
   "metadata": {},
   "outputs": [],
   "source": [
    "import pandas as pd\n",
    "import numpy as np\n",
    "from sklearn import metrics as sklearn_metrics\n"
   ]
  },
  {
   "cell_type": "code",
   "execution_count": 13,
   "id": "4cc6e089-a500-4e01-9bdb-4ca9f097db15",
   "metadata": {},
   "outputs": [],
   "source": [
    "min_label = 0.\n",
    "max_label = 4.\n",
    "\n",
    "def min_max_norm(x, min_label=min_label, max_label=max_label):\n",
    "    return (x-min_label)/(max_label-min_label)\n",
    "\n",
    "def reverse_min_max_norm(x, min_label=min_label, max_label=max_label):\n",
    "    return x*(max_label-min_label)+min_label"
   ]
  },
  {
   "cell_type": "code",
   "execution_count": 3,
   "id": "3df5dc35-2339-459c-b4a7-a8ba360fbf79",
   "metadata": {},
   "outputs": [],
   "source": [
    "outputs = pd.read_pickle('./checkpoints/outputs.pkl')"
   ]
  },
  {
   "cell_type": "code",
   "execution_count": 4,
   "id": "2ed5be13-b74c-45df-b404-9d236be344d5",
   "metadata": {},
   "outputs": [],
   "source": [
    "pred1, true1, pred2, true2 = outputs"
   ]
  },
  {
   "cell_type": "code",
   "execution_count": 44,
   "id": "f675ccda-4bd6-4880-8105-1090672c54cc",
   "metadata": {},
   "outputs": [
    {
     "name": "stdout",
     "output_type": "stream",
     "text": [
      "0.5913342927999048\n"
     ]
    }
   ],
   "source": [
    "def calibrate(logit_list):\n",
    "    for i in range(len(logit_list)):\n",
    "        if 0.98<=logit_list[i]<=1.03:\n",
    "            logit_list[i] = 1\n",
    "    return logit_list\n",
    "\n",
    "def get_score(y_pred, y_true, pred2, true2):\n",
    "    prediction_list = []\n",
    "    ground_truth_list = []\n",
    "    for biopsy_id in y_pred:\n",
    "        preds = np.array(y_pred[biopsy_id])\n",
    "        truths = np.array(y_true[biopsy_id])\n",
    "        \n",
    "        preds2 = np.array(pred2[biopsy_id])\n",
    "        truths2 = np.array(true2[biopsy_id])\n",
    "        \n",
    "        final_pred1 = preds.mean()\n",
    "        final_pred2 = preds2.mean()\n",
    "        \n",
    "        prediction_list.append((final_pred1*1.+final_pred2*1.)/2)\n",
    "        ground_truth_list.append(truths.mean())\n",
    "    prediction_list = np.array(prediction_list)\n",
    "    ground_truth_list = np.array(ground_truth_list)\n",
    "    prediction_list = reverse_min_max_norm(prediction_list)\n",
    "    calibrate(prediction_list)\n",
    "    ground_truth_list = reverse_min_max_norm(ground_truth_list)\n",
    "\n",
    "    mse = sklearn_metrics.mean_squared_error(ground_truth_list, prediction_list)\n",
    "    return mse\n",
    "\n",
    "print(get_score(pred1, true1, pred2, true2))"
   ]
  },
  {
   "cell_type": "code",
   "execution_count": null,
   "id": "606d322f-d924-4c6c-80ae-6e43741a02c4",
   "metadata": {},
   "outputs": [],
   "source": []
  }
 ],
 "metadata": {
  "kernelspec": {
   "display_name": "Python 3",
   "language": "python",
   "name": "python3"
  },
  "language_info": {
   "codemirror_mode": {
    "name": "ipython",
    "version": 3
   },
   "file_extension": ".py",
   "mimetype": "text/x-python",
   "name": "python",
   "nbconvert_exporter": "python",
   "pygments_lexer": "ipython3",
   "version": "3.8.12"
  }
 },
 "nbformat": 4,
 "nbformat_minor": 5
}
