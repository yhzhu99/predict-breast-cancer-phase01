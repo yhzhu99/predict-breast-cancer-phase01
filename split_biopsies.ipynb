{
 "cells": [
  {
   "cell_type": "code",
   "execution_count": 1,
   "id": "46f699e4-1ead-4eec-a348-0906b7497594",
   "metadata": {},
   "outputs": [],
   "source": [
    "import pandas as pd\n",
    "import random\n",
    "import numpy as np\n",
    "import os\n",
    "\n",
    "SEED = 123"
   ]
  },
  {
   "cell_type": "code",
   "execution_count": 2,
   "id": "c751b52b-aeb5-4b91-a5c7-84681d4a1d12",
   "metadata": {},
   "outputs": [],
   "source": [
    "outcome_df = pd.read_csv('/home/ngsci/datasets/brca-psj-path/v2/outcomes.csv')\n",
    "map_df = pd.read_csv('/home/ngsci/datasets/brca-psj-path/v2/slide-biopsy-map.csv')\n",
    "#Unique labels ['IA', 'IIB', 'IIA', '0', nan, 'IIIC', 'IV', 'IIIA', 'IIIB', 'IB']\n",
    "label_mapping = {'IA':1, 'IB':1, 'IIA':2, 'IIB':2, 'IIIA':3, 'IIIB':3, 'IIIC':3, 'IV':4, '0':0}\n",
    "outcome_df['label'] = outcome_df['stage'].map(label_mapping)\n",
    "outcome_df = outcome_df[~pd.isna(outcome_df['label'])]"
   ]
  },
  {
   "cell_type": "code",
   "execution_count": 8,
   "id": "9618353a-543e-4510-9a51-1012065b138a",
   "metadata": {},
   "outputs": [
    {
     "name": "stdout",
     "output_type": "stream",
     "text": [
      "Train slides: 10206\n",
      "\n",
      "Test slides: 10205\n",
      "\n"
     ]
    },
    {
     "name": "stderr",
     "output_type": "stream",
     "text": [
      "/tmp/ipykernel_211/1558716067.py:15: SettingWithCopyWarning: \n",
      "A value is trying to be set on a copy of a slice from a DataFrame.\n",
      "Try using .loc[row_indexer,col_indexer] = value instead\n",
      "\n",
      "See the caveats in the documentation: https://pandas.pydata.org/pandas-docs/stable/user_guide/indexing.html#returning-a-view-versus-a-copy\n",
      "  train_mapping['downsampled_path'] = path_prefix + train_mapping['slide_id'] + '.png'\n",
      "/tmp/ipykernel_211/1558716067.py:16: SettingWithCopyWarning: \n",
      "A value is trying to be set on a copy of a slice from a DataFrame.\n",
      "Try using .loc[row_indexer,col_indexer] = value instead\n",
      "\n",
      "See the caveats in the documentation: https://pandas.pydata.org/pandas-docs/stable/user_guide/indexing.html#returning-a-view-versus-a-copy\n",
      "  test_mapping['downsampled_path'] = path_prefix + test_mapping['slide_id'] + '.png'\n"
     ]
    }
   ],
   "source": [
    "#stratified_df = outcome_df.groupby('label', group_keys=False).apply(lambda x: x.sample(min(len(x), 50)))\n",
    "train_N = 600\n",
    "train_df = outcome_df.groupby('label', group_keys=False).apply(lambda x: x.sample(int(np.rint(train_N*len(x)/len(outcome_df))))).sample(frac=1, random_state=SEED).reset_index(drop=True)\n",
    "\n",
    "test_N = 600\n",
    "remained_df = outcome_df[~outcome_df['biopsy_id'].isin(train_df['biopsy_id'])]\n",
    "test_df = remained_df.groupby('label', group_keys=False).apply(lambda x: x.sample(int(np.rint(test_N*len(x)/len(remained_df))))).sample(frac=1, random_state=SEED).reset_index(drop=True)\n",
    "\n",
    "train_mapping = map_df[map_df['biopsy_id'].isin(train_df['biopsy_id'])]\n",
    "test_mapping = map_df[map_df['biopsy_id'].isin(test_df['biopsy_id'])]\n",
    "print('Train slides: %d\\n'%len(train_mapping))\n",
    "print('Test slides: %d\\n'%len(test_mapping))\n",
    "\n",
    "path_prefix = '/home/ngsci/datasets/brca-psj-path/basic-downsampling/v2/'\n",
    "train_mapping['downsampled_path'] = path_prefix + train_mapping['slide_id'] + '.png'\n",
    "test_mapping['downsampled_path'] = path_prefix + test_mapping['slide_id'] + '.png'"
   ]
  },
  {
   "cell_type": "code",
   "execution_count": 9,
   "id": "9696f417-c268-45a8-bbbe-c8f9c2f23b20",
   "metadata": {},
   "outputs": [],
   "source": [
    "check_res = train_mapping['downsampled_path'].map(lambda x: os.path.isfile(x))\n",
    "assert(check_res.sum() == len(check_res))\n",
    "\n",
    "check_res = test_mapping['downsampled_path'].map(lambda x: os.path.isfile(x))\n",
    "assert(check_res.sum() == len(check_res))"
   ]
  },
  {
   "cell_type": "code",
   "execution_count": 10,
   "id": "5683e698-5c1c-4625-9016-993067ef19f5",
   "metadata": {},
   "outputs": [],
   "source": [
    "train_df.to_csv('./csv_dir/train_outcomes.csv', index=False)\n",
    "test_df.to_csv('./csv_dir/test_outcomes.csv', index=False)\n",
    "train_mapping.to_csv('./csv_dir/train_mapping.csv', index=False)\n",
    "test_mapping.to_csv('./csv_dir/test_mapping.csv', index=False)"
   ]
  },
  {
   "cell_type": "code",
   "execution_count": 12,
   "id": "828f7a2a-0886-4c6c-a28a-dd503176619d",
   "metadata": {},
   "outputs": [],
   "source": [
    "holdout_df = pd.read_csv('/home/ngsci/datasets/brca-psj-path/holdout/v2/biopsy-info.csv')\n",
    "holdout_mapping = pd.read_csv('/home/ngsci/datasets/brca-psj-path/holdout/v2/slide-biopsy-map.csv')\n",
    "\n",
    "path_prefix = '/home/ngsci/datasets/brca-psj-path/basic-downsampling/holdout/'\n",
    "holdout_mapping['downsampled_path'] = path_prefix + holdout_mapping['slide_id'] + '.png'\n",
    "\n",
    "\n",
    "check_res = holdout_mapping['downsampled_path'].map(lambda x: os.path.isfile(x))\n",
    "assert(check_res.sum() == len(check_res))"
   ]
  },
  {
   "cell_type": "code",
   "execution_count": 13,
   "id": "cf02095c-74cc-4f0f-95f0-b684de4afb20",
   "metadata": {},
   "outputs": [],
   "source": [
    "holdout_df.to_csv('./csv_dir/holdout_outcomes.csv', index=False)\n",
    "holdout_mapping.to_csv('./csv_dir/holdout_mapping.csv', index=False)"
   ]
  },
  {
   "cell_type": "code",
   "execution_count": null,
   "id": "4969d901-6bdd-45be-8b88-bbbcb92868d9",
   "metadata": {},
   "outputs": [],
   "source": []
  }
 ],
 "metadata": {
  "kernelspec": {
   "display_name": "Python 3 (ipykernel)",
   "language": "python",
   "name": "python3"
  },
  "language_info": {
   "codemirror_mode": {
    "name": "ipython",
    "version": 3
   },
   "file_extension": ".py",
   "mimetype": "text/x-python",
   "name": "python",
   "nbconvert_exporter": "python",
   "pygments_lexer": "ipython3",
   "version": "3.8.11"
  }
 },
 "nbformat": 4,
 "nbformat_minor": 5
}
