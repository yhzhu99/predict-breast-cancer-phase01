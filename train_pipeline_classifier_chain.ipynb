{
 "cells": [
  {
   "cell_type": "code",
   "execution_count": 2,
   "id": "2fbe7cea-b614-43a7-a8cc-24b09ed69882",
   "metadata": {},
   "outputs": [],
   "source": [
    "import os\n",
    "from pathlib import Path\n",
    "\n",
    "import pandas as pd\n",
    "import numpy as np\n",
    "from tqdm import tqdm\n",
    "# from openslide import OpenSlide\n",
    "\n",
    "import torch\n",
    "from torch import nn\n",
    "from torch.utils.data import (\n",
    "    ConcatDataset,\n",
    "    DataLoader,\n",
    "    Dataset,\n",
    "    Subset,\n",
    "    SubsetRandomSampler,\n",
    "    TensorDataset,\n",
    "    random_split,\n",
    ")\n",
    "\n",
    "import torchvision\n",
    "from torchvision import transforms\n",
    "from PIL import Image\n",
    "\n",
    "# import einops\n",
    "\n",
    "from eval_metrics import print_metrics_binary\n",
    "# from sklearn import metrics as sklearn_metrics\n"
   ]
  },
  {
   "cell_type": "code",
   "execution_count": 8,
   "id": "a586309e",
   "metadata": {},
   "outputs": [],
   "source": [
    "data_dir = \"./datasets/v2/\""
   ]
  },
  {
   "cell_type": "code",
   "execution_count": 9,
   "id": "64e71cd1-5d16-472f-80be-28d5fba31e35",
   "metadata": {},
   "outputs": [],
   "source": [
    "train = pd.read_pickle(data_dir+\"train.pkl\")\n",
    "train_x = train[\"x\"]\n",
    "train_y = train[\"y\"]\n",
    "train_id = train[\"id\"]\n",
    "train_x = torch.tensor(torch.stack(train_x).detach().cpu().numpy())\n",
    "train_y = torch.tensor(train_y)\n",
    "\n",
    "test = pd.read_pickle(data_dir+\"test.pkl\")\n",
    "test_x = test[\"x\"]\n",
    "test_y = test[\"y\"]\n",
    "test_id = test[\"id\"]\n",
    "test_x = torch.tensor(torch.stack(test_x).detach().cpu().numpy())\n",
    "test_y = torch.tensor(test_y)"
   ]
  },
  {
   "cell_type": "code",
   "execution_count": 10,
   "id": "fd251bf8",
   "metadata": {},
   "outputs": [
    {
     "data": {
      "text/plain": [
       "(0.0, 4.0)"
      ]
     },
     "execution_count": 10,
     "metadata": {},
     "output_type": "execute_result"
    }
   ],
   "source": [
    "min_label = train_y.min().item()\n",
    "max_label = train_y.max().item()\n",
    "# train_y = (train_y-min_label)/(max_label-min_label)\n",
    "# test_y = (test_y-min_label)/(max_label-min_label)\n",
    "\n",
    "min_label, max_label"
   ]
  },
  {
   "cell_type": "code",
   "execution_count": 11,
   "id": "b6367ae4",
   "metadata": {},
   "outputs": [],
   "source": [
    "train_y[train_y!=1] = 0\n",
    "test_y[test_y!=1] = 0"
   ]
  },
  {
   "cell_type": "code",
   "execution_count": 12,
   "id": "81058b05",
   "metadata": {},
   "outputs": [],
   "source": [
    "def min_max_norm(x, min_label=min_label, max_label=max_label):\n",
    "    return (x-min_label)/(max_label-min_label)\n",
    "\n",
    "def reverse_min_max_norm(x, min_label=min_label, max_label=max_label):\n",
    "    return x*(max_label-min_label)+min_label"
   ]
  },
  {
   "cell_type": "code",
   "execution_count": 13,
   "id": "348c3427-30e6-4d2e-a3b0-93beda382eb8",
   "metadata": {},
   "outputs": [
    {
     "data": {
      "text/plain": [
       "(torch.Size([10206, 3, 224, 224]),\n",
       " torch.Size([10206]),\n",
       " 10206,\n",
       " torch.Size([10205, 3, 224, 224]),\n",
       " torch.Size([10205]),\n",
       " 10205)"
      ]
     },
     "execution_count": 13,
     "metadata": {},
     "output_type": "execute_result"
    }
   ],
   "source": [
    "train_x.shape, train_y.shape, len(train_id), test_x.shape, test_y.shape, len(test_id)"
   ]
  },
  {
   "cell_type": "code",
   "execution_count": 14,
   "id": "fcf8426b-56f3-4413-91ff-632597396188",
   "metadata": {},
   "outputs": [],
   "source": [
    "class ImageDataset(Dataset):\n",
    "    def __init__(self, x, y, biopsy_id):\n",
    "        self.x = x # img_tensor_list\n",
    "        self.y = y # label\n",
    "        self.biopsy_id = biopsy_id\n",
    "\n",
    "    def __getitem__(self, index):\n",
    "        return self.x[index], self.y[index], self.biopsy_id[index]\n",
    "\n",
    "    def __len__(self):\n",
    "        return len(self.x)"
   ]
  },
  {
   "cell_type": "code",
   "execution_count": 15,
   "id": "b7aec716-267c-45e4-a93d-ec074edd8f1f",
   "metadata": {},
   "outputs": [],
   "source": [
    "batch_size = 256\n",
    "\n",
    "epochs = 50\n",
    "learning_rate = 2e-4\n",
    "momentum = 0.9\n",
    "weight_decay = 0 # 1e-8\n",
    "\n",
    "device = torch.device(\"cuda:1\" if torch.cuda.is_available() else \"cpu\")"
   ]
  },
  {
   "cell_type": "code",
   "execution_count": 16,
   "id": "d59a4783-0f99-4928-a666-f5a723c37bbc",
   "metadata": {},
   "outputs": [],
   "source": [
    "train_dataset = ImageDataset(train_x, train_y, train_id)\n",
    "train_loader = DataLoader(train_dataset, batch_size=batch_size)\n",
    "test_dataset = ImageDataset(test_x, test_y, test_id)\n",
    "test_loader = DataLoader(test_dataset, batch_size=batch_size)"
   ]
  },
  {
   "cell_type": "code",
   "execution_count": 17,
   "id": "b24ec54a-957e-424d-9ca7-1e601afa333c",
   "metadata": {},
   "outputs": [],
   "source": [
    "# for data in train_dataset:\n",
    "#     x, y, biopsy_id = data\n",
    "#     print(x.shape, y, biopsy_id)"
   ]
  },
  {
   "cell_type": "code",
   "execution_count": 18,
   "id": "1051102c-ceb1-4271-8444-7eaeba3bdd2e",
   "metadata": {},
   "outputs": [],
   "source": [
    "def mse_loss(y_pred, y_true):\n",
    "    loss_fn = nn.MSELoss()\n",
    "    return loss_fn(y_pred, y_true)\n",
    "\n",
    "def focal_mse_loss(inputs, targets, activate='sigmoid', beta=.2, gamma=1):\n",
    "    loss = (inputs - targets) ** 2\n",
    "    loss *= (torch.tanh(beta * torch.abs(inputs - targets))) ** gamma if activate == 'tanh' else \\\n",
    "        (2 * torch.sigmoid(beta * torch.abs(inputs - targets)) - 1) ** gamma\n",
    "    loss = torch.mean(loss)\n",
    "    return loss\n",
    "\n",
    "def huber_loss(inputs, targets, beta=1.):\n",
    "    l1_loss = torch.abs(inputs - targets)\n",
    "    cond = l1_loss < beta\n",
    "    loss = torch.where(cond, 0.5 * l1_loss ** 2 / beta, l1_loss - 0.5 * beta)\n",
    "    loss = torch.mean(loss)\n",
    "    return loss\n"
   ]
  },
  {
   "cell_type": "code",
   "execution_count": 19,
   "id": "496ec408",
   "metadata": {},
   "outputs": [],
   "source": [
    "def bce_loss(y_pred, y_true):\n",
    "    loss_fn = nn.BCELoss()\n",
    "    return loss_fn(y_pred, y_true)\n",
    "criterion = bce_loss"
   ]
  },
  {
   "cell_type": "code",
   "execution_count": 24,
   "id": "83c41e44",
   "metadata": {},
   "outputs": [],
   "source": [
    "def train_epoch(model, dataloader, loss_fn, optimizer, scheduler):\n",
    "    train_loss = []\n",
    "    score = []\n",
    "    model.train()\n",
    "    for step, data in enumerate(dataloader):\n",
    "        # if step == 2: break\n",
    "        batch_x, batch_y, _ = data\n",
    "        batch_x, batch_y = (\n",
    "            batch_x.float().to(device),\n",
    "            batch_y.float().to(device),\n",
    "        )\n",
    "        optimizer.zero_grad()\n",
    "        output = model(batch_x)\n",
    "        output = torch.squeeze(output)\n",
    "        # print(batch_y, output)\n",
    "        # batch_y = torch.unsqueeze(batch_y, dim=-1)\n",
    "        # print(batch_y.shape, output.shape, output, batch_y)\n",
    "        # print(output.shape, batch_y.shape)\n",
    "        loss = loss_fn(output, batch_y)\n",
    "        train_loss.append(loss.item())\n",
    "        loss.backward()\n",
    "        optimizer.step()\n",
    "    scheduler.step(np.array(train_loss).mean())\n",
    "    return np.array(train_loss).mean()"
   ]
  },
  {
   "cell_type": "code",
   "execution_count": 25,
   "id": "fe0b0f76-e41e-440b-93e8-9a605e5799b5",
   "metadata": {},
   "outputs": [],
   "source": [
    "def val_epoch(model, dataloader):\n",
    "    y_pred = []\n",
    "    y_true = []\n",
    "    len_list = []\n",
    "    model.eval()\n",
    "    with torch.no_grad():\n",
    "        for _, data in enumerate(dataloader):\n",
    "            batch_x, batch_y, _ = data\n",
    "            batch_x, batch_y = (\n",
    "                batch_x.float().to(device),\n",
    "                batch_y.float().to(device)\n",
    "            )\n",
    "            output = model(batch_x)\n",
    "            output = torch.squeeze(output, dim=0)\n",
    "            # print(type(output), output.shape, output)\n",
    "            y_pred.extend(output.tolist())\n",
    "            y_true.extend(batch_y.tolist())\n",
    "    y_true = np.array(y_true)\n",
    "    y_pred = np.array(y_pred)\n",
    "    y_pred = np.stack([1-y_pred, y_pred], axis=1)\n",
    "    eval_metric = print_metrics_binary(y_true, y_pred, verbose=0)\n",
    "    # print(\"accuracy = {:6.5f}\".format(eval_metric['acc']))\n",
    "    # print(\"aruoc = {:6.5f}\".format(eval_metric['auroc']))\n",
    "    # print(\"auprc = {:6.5f}\".format(eval_metric['auprc']))\n",
    "    return eval_metric[\"acc\"]"
   ]
  },
  {
   "cell_type": "code",
   "execution_count": 3,
   "id": "f5842d16-104b-4420-9b8b-2ba22a4772ae",
   "metadata": {},
   "outputs": [
    {
     "ename": "NameError",
     "evalue": "name 'learning_rate' is not defined",
     "output_type": "error",
     "traceback": [
      "\u001b[0;31m---------------------------------------------------------------------------\u001b[0m",
      "\u001b[0;31mNameError\u001b[0m                                 Traceback (most recent call last)",
      "Cell \u001b[0;32mIn [3], line 4\u001b[0m\n\u001b[1;32m      1\u001b[0m \u001b[39m# model = torchvision.models.resnet18(num_classes=1)\u001b[39;00m\n\u001b[1;32m      2\u001b[0m model \u001b[39m=\u001b[39m torchvision\u001b[39m.\u001b[39mmodels\u001b[39m.\u001b[39mresnet50(weights\u001b[39m=\u001b[39mtorchvision\u001b[39m.\u001b[39mmodels\u001b[39m.\u001b[39mResNet50_Weights\u001b[39m.\u001b[39mDEFAULT)\n\u001b[0;32m----> 4\u001b[0m optimizer \u001b[39m=\u001b[39m torch\u001b[39m.\u001b[39moptim\u001b[39m.\u001b[39mAdam(model\u001b[39m.\u001b[39mparameters(), lr\u001b[39m=\u001b[39mlearning_rate, weight_decay\u001b[39m=\u001b[39mweight_decay)\n\u001b[1;32m      5\u001b[0m scheduler \u001b[39m=\u001b[39m torch\u001b[39m.\u001b[39moptim\u001b[39m.\u001b[39mlr_scheduler\u001b[39m.\u001b[39mReduceLROnPlateau(optimizer)\n\u001b[1;32m      6\u001b[0m hidden_dim \u001b[39m=\u001b[39m \u001b[39m1280\u001b[39m\n",
      "\u001b[0;31mNameError\u001b[0m: name 'learning_rate' is not defined"
     ]
    }
   ],
   "source": [
    "# model = torchvision.models.resnet18(num_classes=1)\n",
    "model = torchvision.models.resnet50(weights=torchvision.models.ResNet50_Weights.DEFAULT)\n",
    "\n",
    "optimizer = torch.optim.Adam(model.parameters(), lr=learning_rate, weight_decay=weight_decay)\n",
    "scheduler = torch.optim.lr_scheduler.ReduceLROnPlateau(optimizer)\n",
    "hidden_dim = 1280\n",
    "out_dim = 1\n",
    "\n",
    "model.classifier = nn.Sequential(\n",
    "    nn.Linear(hidden_dim, hidden_dim//16),\n",
    "    nn.GELU(),\n",
    "    nn.Linear(hidden_dim//16, out_dim),\n",
    "    nn.Sigmoid()\n",
    ")\n",
    "\n",
    "# model.load_state_dict(torch.load('./checkpoints/resnet18-f37072fd.pth'), strict=False)\n",
    "model.load_state_dict(torch.load('./checkpoints/resnet50-11ad3fa6.pth'), strict=False)\n",
    "\n",
    "model.to(device)"
   ]
  },
  {
   "cell_type": "code",
   "execution_count": 26,
   "id": "ecda0015-3854-45a3-bdeb-46ccc2a963ae",
   "metadata": {},
   "outputs": [
    {
     "name": "stdout",
     "output_type": "stream",
     "text": [
      "Epoch 0: Loss = 0.6916041433811188\n",
      "Val Score: 0.5157276\n",
      "Epoch 1: Loss = 0.6873723775148392\n",
      "Val Score: 0.5363057\n",
      "Epoch 2: Loss = 0.6707751169800759\n",
      "Val Score: 0.52170503\n",
      "Epoch 3: Loss = 0.630525815486908\n",
      "Val Score: 0.52493876\n",
      "Epoch 4: Loss = 0.611129391938448\n",
      "Val Score: 0.53855956\n",
      "Epoch 5: Loss = 0.5188729338347912\n",
      "Val Score: 0.54140127\n",
      "Epoch 6: Loss = 0.45672066435217856\n",
      "Val Score: 0.5393435\n",
      "Epoch 7: Loss = 0.3926995176821947\n",
      "Val Score: 0.5364037\n",
      "Epoch 8: Loss = 0.31119989417493343\n",
      "Val Score: 0.5363057\n",
      "Epoch 9: Loss = 0.24947825372219085\n",
      "Val Score: 0.5247428\n",
      "Epoch 10: Loss = 0.19931699894368649\n",
      "Val Score: 0.53317004\n",
      "Epoch 11: Loss = 0.162342637591064\n",
      "Val Score: 0.5346399\n",
      "Epoch 12: Loss = 0.13619974721223116\n",
      "Val Score: 0.5358158\n",
      "Epoch 13: Loss = 0.11838107155635953\n",
      "Val Score: 0.53787357\n",
      "Epoch 14: Loss = 0.09776650238782167\n",
      "Val Score: 0.53718764\n",
      "Epoch 15: Loss = 0.07880826322361827\n",
      "Val Score: 0.53512985\n",
      "Epoch 16: Loss = 0.06243135710246861\n",
      "Val Score: 0.5383636\n",
      "Epoch 17: Loss = 0.04782906528562307\n",
      "Val Score: 0.5301323\n",
      "Epoch 18: Loss = 0.03803144516423344\n",
      "Val Score: 0.5402254\n",
      "Epoch 19: Loss = 0.03132398047018796\n",
      "Val Score: 0.53620774\n",
      "Epoch 20: Loss = 0.02387245264835656\n",
      "Val Score: 0.5358158\n",
      "Epoch 21: Loss = 0.01662218030542135\n",
      "Val Score: 0.54169524\n",
      "Epoch 22: Loss = 0.012316957185976207\n",
      "Val Score: 0.5411073\n",
      "Epoch 23: Loss = 0.010406880307709799\n",
      "Val Score: 0.54149926\n",
      "Epoch 24: Loss = 0.00927165372413583\n",
      "Val Score: 0.54247916\n",
      "Epoch 25: Loss = 0.00848113494575955\n",
      "Val Score: 0.5428711\n",
      "Epoch 26: Loss = 0.007746978887007571\n",
      "Val Score: 0.5429691\n",
      "Epoch 27: Loss = 0.007175203107181005\n",
      "Val Score: 0.5429691\n",
      "Epoch 28: Loss = 0.006715056239045225\n",
      "Val Score: 0.54247916\n",
      "Epoch 29: Loss = 0.006198739912360906\n",
      "Val Score: 0.5413033\n",
      "Epoch 30: Loss = 0.005925752513576299\n",
      "Val Score: 0.5411073\n",
      "Epoch 31: Loss = 0.005511848084279336\n",
      "Val Score: 0.54267514\n",
      "Epoch 32: Loss = 0.00520998592255637\n",
      "Val Score: 0.5420872\n",
      "Epoch 33: Loss = 0.005082423047861084\n",
      "Val Score: 0.544831\n",
      "Epoch 34: Loss = 0.004707099228107836\n",
      "Val Score: 0.5427731\n",
      "Epoch 35: Loss = 0.004406827918137424\n",
      "Val Score: 0.5431651\n",
      "Epoch 36: Loss = 0.004204614482296165\n",
      "Val Score: 0.5435571\n",
      "Epoch 37: Loss = 0.0040553317463491115\n",
      "Val Score: 0.5437531\n",
      "Epoch 38: Loss = 0.003919682558625936\n",
      "Val Score: 0.5438511\n",
      "Epoch 39: Loss = 0.003793164313538\n",
      "Val Score: 0.544537\n",
      "Epoch 40: Loss = 0.003670238696213346\n",
      "Val Score: 0.5436551\n",
      "Epoch 41: Loss = 0.003535305232799146\n",
      "Val Score: 0.5437531\n",
      "Epoch 42: Loss = 0.003405236577964388\n",
      "Val Score: 0.54502696\n",
      "Epoch 43: Loss = 0.003176405531121418\n",
      "Val Score: 0.54492897\n",
      "Epoch 44: Loss = 0.0027868748584296554\n",
      "Val Score: 0.54394907\n",
      "Epoch 45: Loss = 0.0020497358025750147\n",
      "Val Score: 0.544341\n",
      "Epoch 46: Loss = 0.0026030014516436493\n",
      "Val Score: 0.5455169\n",
      "Epoch 47: Loss = 0.04023056054138578\n",
      "Val Score: 0.5318961\n",
      "Epoch 48: Loss = 0.2910159701481462\n",
      "Val Score: 0.5298383\n",
      "Epoch 49: Loss = 0.21348021738231182\n",
      "Val Score: 0.52601665\n"
     ]
    }
   ],
   "source": [
    "best_score = 1e8\n",
    "for epoch in range(epochs):\n",
    "    # print(f'Running epoch {epoch} ...')\n",
    "    train_loss = train_epoch(\n",
    "        model,\n",
    "        train_loader,\n",
    "        criterion,\n",
    "        optimizer,\n",
    "        scheduler\n",
    "    )\n",
    "    print(f\"Epoch {epoch}: Loss = {train_loss}\")\n",
    "    if epoch % 1 == 0:\n",
    "        metric_valid = val_epoch(model, test_loader)\n",
    "        print(\"Val Score:\", metric_valid)\n",
    "        if metric_valid < best_score:\n",
    "            best_score = metric_valid\n",
    "            # print(\"Saving best model ...\")\n",
    "            # torch.save(\n",
    "            #     model.state_dict(),\n",
    "            #     f\"./checkpoints/model_resnet50.ckpt\",\n",
    "            # )\n",
    "    "
   ]
  },
  {
   "cell_type": "code",
   "execution_count": null,
   "id": "0c5ece5e",
   "metadata": {},
   "outputs": [
    {
     "data": {
      "text/plain": [
       "0.615047228315182"
      ]
     },
     "execution_count": 14,
     "metadata": {},
     "output_type": "execute_result"
    },
    {
     "ename": "",
     "evalue": "",
     "output_type": "error",
     "traceback": [
      "\u001b[1;31mThe Kernel crashed while executing code in the the current cell or a previous cell. Please review the code in the cell(s) to identify a possible cause of the failure. Click <a href='https://aka.ms/vscodeJupyterKernelCrash'>here</a> for more info. View Jupyter <a href='command:jupyter.viewOutput'>log</a> for further details."
     ]
    }
   ],
   "source": [
    "best_score"
   ]
  }
 ],
 "metadata": {
  "kernelspec": {
   "display_name": "Python 3.9.13 ('med')",
   "language": "python",
   "name": "python3"
  },
  "language_info": {
   "codemirror_mode": {
    "name": "ipython",
    "version": 3
   },
   "file_extension": ".py",
   "mimetype": "text/x-python",
   "name": "python",
   "nbconvert_exporter": "python",
   "pygments_lexer": "ipython3",
   "version": "3.9.13"
  },
  "vscode": {
   "interpreter": {
    "hash": "03b9317a45a69c475f09ce7bb33975b2f1504feff0a69820c9d0e843e17e056b"
   }
  }
 },
 "nbformat": 4,
 "nbformat_minor": 5
}
