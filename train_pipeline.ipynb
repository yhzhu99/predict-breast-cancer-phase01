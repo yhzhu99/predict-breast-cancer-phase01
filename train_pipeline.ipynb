{
 "cells": [
  {
   "cell_type": "code",
   "execution_count": 1,
   "id": "2fbe7cea-b614-43a7-a8cc-24b09ed69882",
   "metadata": {},
   "outputs": [],
   "source": [
    "import os\n",
    "from pathlib import Path\n",
    "\n",
    "import pandas as pd\n",
    "import numpy as np\n",
    "from tqdm import tqdm\n",
    "# from openslide import OpenSlide\n",
    "\n",
    "import torch\n",
    "from torch import nn\n",
    "from torch.utils.data import (\n",
    "    ConcatDataset,\n",
    "    DataLoader,\n",
    "    Dataset,\n",
    "    Subset,\n",
    "    SubsetRandomSampler,\n",
    "    TensorDataset,\n",
    "    random_split,\n",
    ")\n",
    "\n",
    "import torchvision\n",
    "from torchvision import transforms\n",
    "from PIL import Image\n",
    "\n",
    "import einops\n",
    "\n",
    "# from eval_metrics import print_metrics_regression\n",
    "from sklearn import metrics as sklearn_metrics"
   ]
  },
  {
   "cell_type": "code",
   "execution_count": 2,
   "id": "64e71cd1-5d16-472f-80be-28d5fba31e35",
   "metadata": {},
   "outputs": [],
   "source": [
    "train = pd.read_pickle(\"./datasets/train.pkl\")\n",
    "train_x = train[\"x\"]\n",
    "train_y = train[\"y\"]\n",
    "train_x = torch.tensor(torch.stack(train_x).detach().cpu().numpy())\n",
    "train_y = torch.tensor(train_y)\n",
    "\n",
    "test = pd.read_pickle(\"./datasets/test.pkl\")\n",
    "test_x = test[\"x\"]\n",
    "test_y = test[\"y\"]\n",
    "test_x = torch.tensor(torch.stack(test_x).detach().cpu().numpy())\n",
    "test_y = torch.tensor(test_y)"
   ]
  },
  {
   "cell_type": "code",
   "execution_count": 3,
   "id": "fd251bf8",
   "metadata": {},
   "outputs": [],
   "source": [
    "min_label = train_y.min().item()\n",
    "max_label = train_y.max().item()\n",
    "train_y = (train_y-min_label)/(max_label-min_label)\n",
    "test_y = (test_y-min_label)/(max_label-min_label)"
   ]
  },
  {
   "cell_type": "code",
   "execution_count": 4,
   "id": "348c3427-30e6-4d2e-a3b0-93beda382eb8",
   "metadata": {},
   "outputs": [
    {
     "data": {
      "text/plain": [
       "(torch.Size([5073, 3, 224, 224]),\n",
       " torch.Size([5073]),\n",
       " torch.Size([6301, 3, 224, 224]),\n",
       " torch.Size([6301]))"
      ]
     },
     "execution_count": 4,
     "metadata": {},
     "output_type": "execute_result"
    }
   ],
   "source": [
    "train_x.shape, train_y.shape, test_x.shape, test_y.shape"
   ]
  },
  {
   "cell_type": "code",
   "execution_count": 5,
   "id": "fcf8426b-56f3-4413-91ff-632597396188",
   "metadata": {},
   "outputs": [],
   "source": [
    "class ImageDataset(Dataset):\n",
    "    def __init__(self, x, y):\n",
    "        self.x = x # img_tensor_list\n",
    "        self.y = y # label\n",
    "\n",
    "    def __getitem__(self, index):\n",
    "        return self.x[index], self.y[index]\n",
    "\n",
    "    def __len__(self):\n",
    "        return len(self.x)"
   ]
  },
  {
   "cell_type": "code",
   "execution_count": 6,
   "id": "b7aec716-267c-45e4-a93d-ec074edd8f1f",
   "metadata": {},
   "outputs": [],
   "source": [
    "batch_size = 256\n",
    "\n",
    "epochs = 50\n",
    "learning_rate = 1e-4\n",
    "momentum = 0.9\n",
    "weight_decay = 0 # 1e-8\n",
    "\n",
    "device = torch.device(\"cuda:1\" if torch.cuda.is_available() else \"cpu\")"
   ]
  },
  {
   "cell_type": "code",
   "execution_count": 7,
   "id": "d59a4783-0f99-4928-a666-f5a723c37bbc",
   "metadata": {},
   "outputs": [],
   "source": [
    "train_dataset = ImageDataset(train_x, train_y)\n",
    "train_loader = DataLoader(train_dataset, batch_size=batch_size)\n",
    "test_dataset = ImageDataset(test_x, test_y)\n",
    "test_loader = DataLoader(test_dataset, batch_size=batch_size)"
   ]
  },
  {
   "cell_type": "code",
   "execution_count": 8,
   "id": "b24ec54a-957e-424d-9ca7-1e601afa333c",
   "metadata": {},
   "outputs": [],
   "source": [
    "# for data in train_dataset:\n",
    "#     x, y = data\n",
    "#     print(x.shape, y)"
   ]
  },
  {
   "cell_type": "code",
   "execution_count": 9,
   "id": "1051102c-ceb1-4271-8444-7eaeba3bdd2e",
   "metadata": {},
   "outputs": [],
   "source": [
    "def mse_loss(y_pred, y_true):\n",
    "    loss_fn = nn.MSELoss()\n",
    "    return loss_fn(y_pred, y_true)\n",
    "\n",
    "def focal_mse_loss(inputs, targets, activate='sigmoid', beta=.2, gamma=1):\n",
    "    loss = (inputs - targets) ** 2\n",
    "    loss *= (torch.tanh(beta * torch.abs(inputs - targets))) ** gamma if activate == 'tanh' else \\\n",
    "        (2 * torch.sigmoid(beta * torch.abs(inputs - targets)) - 1) ** gamma\n",
    "    loss = torch.mean(loss)\n",
    "    return loss\n",
    "\n",
    "def huber_loss(inputs, targets, beta=1.):\n",
    "    l1_loss = torch.abs(inputs - targets)\n",
    "    cond = l1_loss < beta\n",
    "    loss = torch.where(cond, 0.5 * l1_loss ** 2 / beta, l1_loss - 0.5 * beta)\n",
    "    loss = torch.mean(loss)\n",
    "    return loss\n",
    "\n",
    "criterion = mse_loss"
   ]
  },
  {
   "cell_type": "code",
   "execution_count": 10,
   "id": "fe0b0f76-e41e-440b-93e8-9a605e5799b5",
   "metadata": {},
   "outputs": [],
   "source": [
    "def train_epoch(model, dataloader, loss_fn, optimizer, scheduler):\n",
    "    train_loss = []\n",
    "    model.train()\n",
    "    for step, data in enumerate(dataloader):\n",
    "        batch_x, batch_y = data\n",
    "        batch_x, batch_y = (\n",
    "            batch_x.float().to(device),\n",
    "            batch_y.float().to(device),\n",
    "        )\n",
    "        optimizer.zero_grad()\n",
    "        # print(batch_x.device, batch_x.shape)\n",
    "        # print(next(model.parameters()).is_cuda)\n",
    "        output = model(batch_x)\n",
    "        output = torch.squeeze(output, dim=1)\n",
    "        # print(output.shape, batch_y.shape)\n",
    "        \n",
    "        loss = loss_fn(output, batch_y)\n",
    "        train_loss.append(loss.item())\n",
    "        loss.backward()\n",
    "        optimizer.step()\n",
    "    metric_train_loss = np.array(train_loss).mean()\n",
    "    scheduler.step(metric_train_loss)\n",
    "    return metric_train_loss\n",
    "\n",
    "def val_epoch(model, dataloader):\n",
    "    y_pred = []\n",
    "    y_true = []\n",
    "    model.eval()\n",
    "    with torch.no_grad():\n",
    "        for step, data in enumerate(dataloader):\n",
    "            # print(step)\n",
    "            batch_x, batch_y = data\n",
    "            batch_x, batch_y = (\n",
    "                batch_x.float().to(device),\n",
    "                batch_y.float().to(device),\n",
    "            )\n",
    "            output = model(batch_x)\n",
    "            output = torch.squeeze(output, dim=1)\n",
    "            y_pred.extend(output.detach().cpu().numpy().tolist())\n",
    "            y_true.extend(batch_y.detach().cpu().numpy().tolist())\n",
    "    y_pred = np.array(y_pred)\n",
    "    y_true = np.array(y_true)\n",
    "    y_pred = y_pred*(max_label-min_label)+min_label\n",
    "    y_true = y_true*(max_label-min_label)+min_label\n",
    "    mse = sklearn_metrics.mean_squared_error(y_true, y_pred)\n",
    "    return mse"
   ]
  },
  {
   "cell_type": "code",
   "execution_count": 11,
   "id": "f5842d16-104b-4420-9b8b-2ba22a4772ae",
   "metadata": {},
   "outputs": [
    {
     "data": {
      "text/plain": [
       "ResNet(\n",
       "  (conv1): Conv2d(3, 64, kernel_size=(7, 7), stride=(2, 2), padding=(3, 3), bias=False)\n",
       "  (bn1): BatchNorm2d(64, eps=1e-05, momentum=0.1, affine=True, track_running_stats=True)\n",
       "  (relu): ReLU(inplace=True)\n",
       "  (maxpool): MaxPool2d(kernel_size=3, stride=2, padding=1, dilation=1, ceil_mode=False)\n",
       "  (layer1): Sequential(\n",
       "    (0): BasicBlock(\n",
       "      (conv1): Conv2d(64, 64, kernel_size=(3, 3), stride=(1, 1), padding=(1, 1), bias=False)\n",
       "      (bn1): BatchNorm2d(64, eps=1e-05, momentum=0.1, affine=True, track_running_stats=True)\n",
       "      (relu): ReLU(inplace=True)\n",
       "      (conv2): Conv2d(64, 64, kernel_size=(3, 3), stride=(1, 1), padding=(1, 1), bias=False)\n",
       "      (bn2): BatchNorm2d(64, eps=1e-05, momentum=0.1, affine=True, track_running_stats=True)\n",
       "    )\n",
       "    (1): BasicBlock(\n",
       "      (conv1): Conv2d(64, 64, kernel_size=(3, 3), stride=(1, 1), padding=(1, 1), bias=False)\n",
       "      (bn1): BatchNorm2d(64, eps=1e-05, momentum=0.1, affine=True, track_running_stats=True)\n",
       "      (relu): ReLU(inplace=True)\n",
       "      (conv2): Conv2d(64, 64, kernel_size=(3, 3), stride=(1, 1), padding=(1, 1), bias=False)\n",
       "      (bn2): BatchNorm2d(64, eps=1e-05, momentum=0.1, affine=True, track_running_stats=True)\n",
       "    )\n",
       "  )\n",
       "  (layer2): Sequential(\n",
       "    (0): BasicBlock(\n",
       "      (conv1): Conv2d(64, 128, kernel_size=(3, 3), stride=(2, 2), padding=(1, 1), bias=False)\n",
       "      (bn1): BatchNorm2d(128, eps=1e-05, momentum=0.1, affine=True, track_running_stats=True)\n",
       "      (relu): ReLU(inplace=True)\n",
       "      (conv2): Conv2d(128, 128, kernel_size=(3, 3), stride=(1, 1), padding=(1, 1), bias=False)\n",
       "      (bn2): BatchNorm2d(128, eps=1e-05, momentum=0.1, affine=True, track_running_stats=True)\n",
       "      (downsample): Sequential(\n",
       "        (0): Conv2d(64, 128, kernel_size=(1, 1), stride=(2, 2), bias=False)\n",
       "        (1): BatchNorm2d(128, eps=1e-05, momentum=0.1, affine=True, track_running_stats=True)\n",
       "      )\n",
       "    )\n",
       "    (1): BasicBlock(\n",
       "      (conv1): Conv2d(128, 128, kernel_size=(3, 3), stride=(1, 1), padding=(1, 1), bias=False)\n",
       "      (bn1): BatchNorm2d(128, eps=1e-05, momentum=0.1, affine=True, track_running_stats=True)\n",
       "      (relu): ReLU(inplace=True)\n",
       "      (conv2): Conv2d(128, 128, kernel_size=(3, 3), stride=(1, 1), padding=(1, 1), bias=False)\n",
       "      (bn2): BatchNorm2d(128, eps=1e-05, momentum=0.1, affine=True, track_running_stats=True)\n",
       "    )\n",
       "  )\n",
       "  (layer3): Sequential(\n",
       "    (0): BasicBlock(\n",
       "      (conv1): Conv2d(128, 256, kernel_size=(3, 3), stride=(2, 2), padding=(1, 1), bias=False)\n",
       "      (bn1): BatchNorm2d(256, eps=1e-05, momentum=0.1, affine=True, track_running_stats=True)\n",
       "      (relu): ReLU(inplace=True)\n",
       "      (conv2): Conv2d(256, 256, kernel_size=(3, 3), stride=(1, 1), padding=(1, 1), bias=False)\n",
       "      (bn2): BatchNorm2d(256, eps=1e-05, momentum=0.1, affine=True, track_running_stats=True)\n",
       "      (downsample): Sequential(\n",
       "        (0): Conv2d(128, 256, kernel_size=(1, 1), stride=(2, 2), bias=False)\n",
       "        (1): BatchNorm2d(256, eps=1e-05, momentum=0.1, affine=True, track_running_stats=True)\n",
       "      )\n",
       "    )\n",
       "    (1): BasicBlock(\n",
       "      (conv1): Conv2d(256, 256, kernel_size=(3, 3), stride=(1, 1), padding=(1, 1), bias=False)\n",
       "      (bn1): BatchNorm2d(256, eps=1e-05, momentum=0.1, affine=True, track_running_stats=True)\n",
       "      (relu): ReLU(inplace=True)\n",
       "      (conv2): Conv2d(256, 256, kernel_size=(3, 3), stride=(1, 1), padding=(1, 1), bias=False)\n",
       "      (bn2): BatchNorm2d(256, eps=1e-05, momentum=0.1, affine=True, track_running_stats=True)\n",
       "    )\n",
       "  )\n",
       "  (layer4): Sequential(\n",
       "    (0): BasicBlock(\n",
       "      (conv1): Conv2d(256, 512, kernel_size=(3, 3), stride=(2, 2), padding=(1, 1), bias=False)\n",
       "      (bn1): BatchNorm2d(512, eps=1e-05, momentum=0.1, affine=True, track_running_stats=True)\n",
       "      (relu): ReLU(inplace=True)\n",
       "      (conv2): Conv2d(512, 512, kernel_size=(3, 3), stride=(1, 1), padding=(1, 1), bias=False)\n",
       "      (bn2): BatchNorm2d(512, eps=1e-05, momentum=0.1, affine=True, track_running_stats=True)\n",
       "      (downsample): Sequential(\n",
       "        (0): Conv2d(256, 512, kernel_size=(1, 1), stride=(2, 2), bias=False)\n",
       "        (1): BatchNorm2d(512, eps=1e-05, momentum=0.1, affine=True, track_running_stats=True)\n",
       "      )\n",
       "    )\n",
       "    (1): BasicBlock(\n",
       "      (conv1): Conv2d(512, 512, kernel_size=(3, 3), stride=(1, 1), padding=(1, 1), bias=False)\n",
       "      (bn1): BatchNorm2d(512, eps=1e-05, momentum=0.1, affine=True, track_running_stats=True)\n",
       "      (relu): ReLU(inplace=True)\n",
       "      (conv2): Conv2d(512, 512, kernel_size=(3, 3), stride=(1, 1), padding=(1, 1), bias=False)\n",
       "      (bn2): BatchNorm2d(512, eps=1e-05, momentum=0.1, affine=True, track_running_stats=True)\n",
       "    )\n",
       "  )\n",
       "  (avgpool): AdaptiveAvgPool2d(output_size=(1, 1))\n",
       "  (fc): Sequential(\n",
       "    (0): Linear(in_features=512, out_features=128, bias=True)\n",
       "    (1): GELU(approximate=none)\n",
       "    (2): Linear(in_features=128, out_features=1, bias=True)\n",
       "    (3): Sigmoid()\n",
       "  )\n",
       ")"
      ]
     },
     "execution_count": 11,
     "metadata": {},
     "output_type": "execute_result"
    }
   ],
   "source": [
    "model = torchvision.models.resnet18(num_classes=1)\n",
    "# model = torchvision.models.resnet50(weights=torchvision.models.ResNet50_Weights.DEFAULT)\n",
    "\n",
    "optimizer = torch.optim.Adam(model.parameters(), lr=learning_rate, weight_decay=weight_decay)\n",
    "scheduler = torch.optim.lr_scheduler.ReduceLROnPlateau(optimizer)\n",
    "hidden_dim = model.fc.in_features\n",
    "out_dim = 1\n",
    "\n",
    "model.fc = nn.Sequential(\n",
    "    nn.Linear(hidden_dim, hidden_dim//4),\n",
    "    nn.GELU(),\n",
    "    nn.Linear(hidden_dim//4, out_dim),\n",
    "    nn.Sigmoid()\n",
    ")\n",
    "\n",
    "model.load_state_dict(torch.load('./checkpoints/resnet18-f37072fd.pth'), strict=False)\n",
    "# model.load_state_dict(torch.load('./checkpoints/resnet50-11ad3fa6.pth'), strict=False)\n",
    "\n",
    "model.to(device)"
   ]
  },
  {
   "cell_type": "code",
   "execution_count": 12,
   "id": "ecda0015-3854-45a3-bdeb-46ccc2a963ae",
   "metadata": {},
   "outputs": [
    {
     "name": "stdout",
     "output_type": "stream",
     "text": [
      "Saving best model ...\n",
      "Val Score: 0.7929031190070984\n",
      "Epoch 0: Loss = 0.06808282844722272\n",
      "Saving best model ...\n",
      "Val Score: 0.6853907522319087\n",
      "Epoch 1: Loss = 0.03915366996079683\n",
      "Epoch 2: Loss = 0.031989365722984074\n",
      "Epoch 3: Loss = 0.024433540645986795\n",
      "Epoch 4: Loss = 0.016930035222321747\n",
      "Epoch 5: Loss = 0.01193975042551756\n",
      "Epoch 6: Loss = 0.009949076897464692\n",
      "Epoch 7: Loss = 0.010039468458853663\n",
      "Epoch 8: Loss = 0.009158727596513927\n",
      "Epoch 9: Loss = 0.007602392649278045\n",
      "Epoch 10: Loss = 0.006859648763202131\n",
      "Epoch 11: Loss = 0.0059596379054710266\n",
      "Epoch 12: Loss = 0.005237931373994797\n",
      "Saving best model ...\n",
      "Val Score: 0.6826763073157284\n",
      "Epoch 13: Loss = 0.004439977859146893\n",
      "Epoch 14: Loss = 0.0031863241514656694\n",
      "Epoch 15: Loss = 0.003152572875842452\n",
      "Epoch 16: Loss = 0.003364248923026025\n",
      "Epoch 17: Loss = 0.004015666688792408\n",
      "Epoch 18: Loss = 0.0036441734759137035\n",
      "Epoch 19: Loss = 0.004033948038704693\n",
      "Epoch 20: Loss = 0.003858250949997455\n",
      "Epoch 21: Loss = 0.003156738472171128\n",
      "Epoch 22: Loss = 0.002913513540988788\n",
      "Epoch 23: Loss = 0.0026267773791914806\n",
      "Epoch 24: Loss = 0.0029099561739712953\n",
      "Epoch 25: Loss = 0.002395223287749104\n",
      "Epoch 26: Loss = 0.0018663358583580702\n",
      "Epoch 27: Loss = 0.0016089352575363591\n",
      "Epoch 28: Loss = 0.0013926959858508781\n",
      "Epoch 29: Loss = 0.0013766442440100945\n",
      "Epoch 30: Loss = 0.0014834527799393981\n",
      "Epoch 31: Loss = 0.0014889827027218417\n",
      "Epoch 32: Loss = 0.0014080875931540503\n",
      "Epoch 33: Loss = 0.002033860475057736\n",
      "Saving best model ...\n",
      "Val Score: 0.665751293946594\n",
      "Epoch 34: Loss = 0.002249747377936728\n",
      "Epoch 35: Loss = 0.00181203639076557\n",
      "Epoch 36: Loss = 0.001594900235068053\n",
      "Epoch 37: Loss = 0.0010985164350131526\n",
      "Epoch 38: Loss = 0.0008649227602290921\n",
      "Epoch 39: Loss = 0.0009233077958924696\n",
      "Epoch 40: Loss = 0.0008925469242967665\n",
      "Epoch 41: Loss = 0.0007946782207000069\n",
      "Epoch 42: Loss = 0.0008320285094669088\n",
      "Epoch 43: Loss = 0.000845769836450927\n",
      "Epoch 44: Loss = 0.0008216578891733662\n",
      "Epoch 45: Loss = 0.0007909553853096441\n",
      "Epoch 46: Loss = 0.0007102992181899026\n",
      "Epoch 47: Loss = 0.0006718145916238428\n",
      "Epoch 48: Loss = 0.0006648142531048507\n",
      "Epoch 49: Loss = 0.0007043500823783688\n"
     ]
    }
   ],
   "source": [
    "best_score = 1e8\n",
    "for epoch in range(epochs):\n",
    "    # print(f'Running epoch {epoch} ...')\n",
    "    train_loss = train_epoch(\n",
    "        model,\n",
    "        train_loader,\n",
    "        criterion,\n",
    "        optimizer,\n",
    "        scheduler\n",
    "    )\n",
    "    if epoch % 1 == 0:\n",
    "        metric_valid = val_epoch(model, test_loader)\n",
    "        if metric_valid < best_score:\n",
    "            best_score = metric_valid\n",
    "            print(\"Saving best model ...\")\n",
    "            print(\"Val Score:\", metric_valid)\n",
    "            torch.save(\n",
    "                model.state_dict(),\n",
    "                f\"./checkpoints/model_resnet18.ckpt\",\n",
    "            )\n",
    "    print(f\"Epoch {epoch}: Loss = {train_loss}\")"
   ]
  },
  {
   "cell_type": "code",
   "execution_count": 14,
   "id": "0c5ece5e",
   "metadata": {},
   "outputs": [
    {
     "data": {
      "text/plain": [
       "0.665751293946594"
      ]
     },
     "execution_count": 14,
     "metadata": {},
     "output_type": "execute_result"
    }
   ],
   "source": [
    "best_score"
   ]
  },
  {
   "cell_type": "code",
   "execution_count": 15,
   "id": "52ed36b3",
   "metadata": {},
   "outputs": [],
   "source": [
    "def val_epoch_print(model, dataloader):\n",
    "    y_pred = []\n",
    "    y_true = []\n",
    "    model.eval()\n",
    "    with torch.no_grad():\n",
    "        for step, data in enumerate(dataloader):\n",
    "            # print(step)\n",
    "            batch_x, batch_y = data\n",
    "            batch_x, batch_y = (\n",
    "                batch_x.float().to(device),\n",
    "                batch_y.float().to(device),\n",
    "            )\n",
    "            output = model(batch_x)\n",
    "            output = torch.squeeze(output, dim=1)\n",
    "            y_pred.extend(output.detach().cpu().numpy().tolist())\n",
    "            y_true.extend(batch_y.detach().cpu().numpy().tolist())\n",
    "    y_pred = np.array(y_pred)\n",
    "    y_true = np.array(y_true)\n",
    "    y_pred = y_pred*(max_label-min_label)+min_label\n",
    "    y_true = y_true*(max_label-min_label)+min_label\n",
    "    mse = sklearn_metrics.mean_squared_error(y_true, y_pred)\n",
    "    # print(y_pred, y_true)\n",
    "    return y_pred, y_true\n",
    "\n",
    "y_pred, y_true = val_epoch_print(model, test_loader)"
   ]
  },
  {
   "cell_type": "code",
   "execution_count": 19,
   "id": "27b9ec43",
   "metadata": {},
   "outputs": [
    {
     "data": {
      "text/plain": [
       "(0.0031833897810429335, 3.4848854541778564)"
      ]
     },
     "execution_count": 19,
     "metadata": {},
     "output_type": "execute_result"
    }
   ],
   "source": [
    "y_pred.min(), y_pred.max()"
   ]
  }
 ],
 "metadata": {
  "kernelspec": {
   "display_name": "Python 3.9.13 ('med')",
   "language": "python",
   "name": "python3"
  },
  "language_info": {
   "codemirror_mode": {
    "name": "ipython",
    "version": 3
   },
   "file_extension": ".py",
   "mimetype": "text/x-python",
   "name": "python",
   "nbconvert_exporter": "python",
   "pygments_lexer": "ipython3",
   "version": "3.9.13"
  },
  "vscode": {
   "interpreter": {
    "hash": "03b9317a45a69c475f09ce7bb33975b2f1504feff0a69820c9d0e843e17e056b"
   }
  }
 },
 "nbformat": 4,
 "nbformat_minor": 5
}
